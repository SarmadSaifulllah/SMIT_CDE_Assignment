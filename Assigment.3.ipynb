{
 "cells": [
  {
   "cell_type": "code",
   "execution_count": 6,
   "id": "c93014f0-3353-4b5e-bf6d-9bb22b6c19ae",
   "metadata": {},
   "outputs": [
    {
     "name": "stdin",
     "output_type": "stream",
     "text": [
      "Enter a string:  Alkaline\n"
     ]
    },
    {
     "name": "stdout",
     "output_type": "stream",
     "text": [
      "Number of vowels: 4\n"
     ]
    }
   ],
   "source": [
    "#Q:1\n",
    "\n",
    "s = input(\"Enter a string: \")\n",
    "vowels = {'a', 'e', 'i', 'o', 'u'}\n",
    "count = 0\n",
    "for temp in s.lower():\n",
    "    if temp in vowels:\n",
    "        count += 1\n",
    "print(\"Number of vowels:\", count)\n",
    "\n"
   ]
  },
  {
   "cell_type": "code",
   "execution_count": 8,
   "id": "a84c8139-fba0-40be-8455-3769264a49e9",
   "metadata": {},
   "outputs": [
    {
     "name": "stdin",
     "output_type": "stream",
     "text": [
      "Enter a string:  There was a king who dwell beside the river dee in 1990\n"
     ]
    },
    {
     "name": "stdout",
     "output_type": "stream",
     "text": [
      "Uppercase: 1\n",
      "Lowercase: 39\n",
      "Digits: 4\n",
      "Whitespaces: 11\n"
     ]
    }
   ],
   "source": [
    "#Q:2\n",
    "\n",
    "s = input(\"Enter a string: \")\n",
    "upper = lower = digit = whitespace = 0\n",
    "for temp in s:\n",
    "    if temp.isupper():\n",
    "        upper += 1\n",
    "    elif temp.islower():\n",
    "        lower += 1\n",
    "    elif temp.isdigit():\n",
    "        digit += 1\n",
    "    elif temp.isspace():\n",
    "        whitespace += 1\n",
    "print(f\"Uppercase: {upper}\\nLowercase: {lower}\\nDigits: {digit}\\nWhitespaces: {whitespace}\")"
   ]
  },
  {
   "cell_type": "code",
   "execution_count": 10,
   "id": "00f80b93-e9aa-4a69-922c-68dd2bdaacab",
   "metadata": {},
   "outputs": [
    {
     "name": "stdin",
     "output_type": "stream",
     "text": [
      "Enter a string:  Where\n"
     ]
    },
    {
     "name": "stdout",
     "output_type": "stream",
     "text": [
      "New string: eherW\n"
     ]
    }
   ],
   "source": [
    "#Q:3\n",
    "\n",
    "s = input(\"Enter a string: \")\n",
    "if len(s) < 2:\n",
    "    new_s = s\n",
    "else:\n",
    "    new_s = s[-1:] + s[1:-1] + s[:1]\n",
    "print(\"New string:\", new_s)"
   ]
  },
  {
   "cell_type": "code",
   "execution_count": 11,
   "id": "3db26fbe-e832-42a8-a97a-d8bc8f4d6008",
   "metadata": {},
   "outputs": [
    {
     "name": "stdin",
     "output_type": "stream",
     "text": [
      "Enter a string:  where\n"
     ]
    },
    {
     "name": "stdout",
     "output_type": "stream",
     "text": [
      "Reversed string: erehw\n"
     ]
    }
   ],
   "source": [
    "#Q:4\n",
    "\n",
    "s = input(\"Enter a string: \")\n",
    "reversed_s = \"\"\n",
    "for i in range(len(s)-1, -1, -1):\n",
    "    reversed_s += s[i]\n",
    "print(\"Reversed string:\", reversed_s)"
   ]
  },
  {
   "cell_type": "code",
   "execution_count": 12,
   "id": "b1652617-0865-404e-a673-d8428c64362c",
   "metadata": {},
   "outputs": [
    {
     "name": "stdin",
     "output_type": "stream",
     "text": [
      "Enter a string:  There\n"
     ]
    },
    {
     "name": "stdout",
     "output_type": "stream",
     "text": [
      "Shifted string: hereT\n"
     ]
    }
   ],
   "source": [
    "#Q:5\n",
    "\n",
    "s = input(\"Enter a string: \")\n",
    "if len(s) == 0:\n",
    "    new_s = s\n",
    "else:\n",
    "    new_s = s[1:] + s[0]\n",
    "print(\"Shifted string:\", new_s)"
   ]
  },
  {
   "cell_type": "code",
   "execution_count": 13,
   "id": "ac586781-6af8-4a86-8dbd-bad84def85b6",
   "metadata": {},
   "outputs": [
    {
     "name": "stdin",
     "output_type": "stream",
     "text": [
      "Enter your full name:  Where are you going?\n"
     ]
    },
    {
     "name": "stdout",
     "output_type": "stream",
     "text": [
      "Initials: W. A. Y. G.\n"
     ]
    }
   ],
   "source": [
    "#Q:6\n",
    "\n",
    "name = input(\"Enter your full name: \")\n",
    "initials = name[0] + \". \"  # First initial\n",
    "for i in range(1, len(name)):\n",
    "    if name[i-1] == ' ':\n",
    "        initials += name[i].upper() + \". \"\n",
    "print(\"Initials:\", initials.strip())"
   ]
  },
  {
   "cell_type": "code",
   "execution_count": 15,
   "id": "08f018be-3c07-44d2-8f67-b0d12e76bf69",
   "metadata": {},
   "outputs": [
    {
     "name": "stdin",
     "output_type": "stream",
     "text": [
      "Enter a string:  mother\n"
     ]
    },
    {
     "name": "stdout",
     "output_type": "stream",
     "text": [
      "Is Palindrome? False\n"
     ]
    }
   ],
   "source": [
    "#Q:7\n",
    "\n",
    "s = input(\"Enter a string: \")\n",
    "is_palindrome = True\n",
    "for i in range(len(s)//2):\n",
    "    if s[i] != s[-i-1]:\n",
    "        is_palindrome = False\n",
    "        break\n",
    "print(\"Is Palindrome?\", is_palindrome)"
   ]
  },
  {
   "cell_type": "code",
   "execution_count": 16,
   "id": "d9af16f7-d45c-4073-b261-b5d45ec672d2",
   "metadata": {},
   "outputs": [
    {
     "name": "stdout",
     "output_type": "stream",
     "text": [
      "SHIFT\n",
      "HIFTS\n",
      "IFTSH\n",
      "FTSHI\n",
      "TSHIF\n"
     ]
    }
   ],
   "source": [
    "s = \"SHIFT\"\n",
    "for _ in range(len(s)):\n",
    "    print(s)\n",
    "    s = s[1:] + s[0]  # Left shift"
   ]
  },
  {
   "cell_type": "code",
   "execution_count": 19,
   "id": "d7d4e630-1121-435b-abea-db1550cf467a",
   "metadata": {},
   "outputs": [
    {
     "name": "stdin",
     "output_type": "stream",
     "text": [
      "Enter password:  Contain\n"
     ]
    },
    {
     "name": "stdout",
     "output_type": "stream",
     "text": [
      "Password must be at least 8 characters!\n"
     ]
    }
   ],
   "source": [
    "password = input(\"Enter password: \")\n",
    "has_upper = has_lower = has_digit = False\n",
    "\n",
    "if len(password) < 8:\n",
    "    print(\"Password must be at least 8 characters!\")\n",
    "else:\n",
    "    for temp in password:\n",
    "        if temp.isupper():\n",
    "            has_upper = True\n",
    "        elif temp.islower():\n",
    "            has_lower = True\n",
    "        elif temp.isdigit():\n",
    "            has_digit = True\n",
    "    if has_upper and has_lower and has_digit:\n",
    "        print(\"Password is valid.\")\n",
    "    else:\n",
    "        print(\"Password must contain at least one uppercase, lowercase, and digit.\")"
   ]
  },
  {
   "cell_type": "code",
   "execution_count": null,
   "id": "83e5540f-e48c-4b29-a2e5-db95f93b9c7f",
   "metadata": {},
   "outputs": [],
   "source": []
  }
 ],
 "metadata": {
  "kernelspec": {
   "display_name": "Python 3 (ipykernel)",
   "language": "python",
   "name": "python3"
  },
  "language_info": {
   "codemirror_mode": {
    "name": "ipython",
    "version": 3
   },
   "file_extension": ".py",
   "mimetype": "text/x-python",
   "name": "python",
   "nbconvert_exporter": "python",
   "pygments_lexer": "ipython3",
   "version": "3.12.7"
  }
 },
 "nbformat": 4,
 "nbformat_minor": 5
}
