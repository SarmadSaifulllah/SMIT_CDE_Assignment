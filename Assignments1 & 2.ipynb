{
 "cells": [
  {
   "cell_type": "code",
   "execution_count": 1,
   "id": "b8332f58-2026-4a12-91ab-d4c3906ddb9a",
   "metadata": {},
   "outputs": [],
   "source": [
    "# Part -1 Python Basics (Variables)"
   ]
  },
  {
   "cell_type": "code",
   "execution_count": 1,
   "id": "94e6007f-c2f1-4e6a-9865-251165a35a22",
   "metadata": {},
   "outputs": [
    {
     "name": "stdout",
     "output_type": "stream",
     "text": [
      "Name: Sarmad Saifullah\n",
      "Father's Name: Saifullah\n",
      "Date of Birth: 22-Dec-1996\n",
      "Sarmad Saifullah\n",
      "Saifullah\n",
      "22-Dec-1996\n"
     ]
    }
   ],
   "source": [
    "# Q:1 Print Your Name with your Father name and Date of birth using suitable escape sequence charactor\n",
    "\n",
    "My_Name = \"Sarmad Saifullah\"\n",
    "Father_Name = \"Saifullah\"\n",
    "Dob = \"22-Dec-1996\"\n",
    "print(\"Name: \" + My_Name + \"\\nFather's Name: \" + Father_Name + \"\\nDate of Birth: \" + Dob)\n",
    "print(My_Name + \"\\n\" + Father_Name + \"\\n\" + Dob)"
   ]
  },
  {
   "cell_type": "code",
   "execution_count": 2,
   "id": "89e1a430-fbf9-48e5-8652-c104dfa98998",
   "metadata": {},
   "outputs": [
    {
     "name": "stdout",
     "output_type": "stream",
     "text": [
      "Sarmad Saifullah\n",
      "Saifullah\n",
      "22-Dec-1996\n",
      "BA from KU (Countinue)\n"
     ]
    }
   ],
   "source": [
    "# Q:2 Write your small bio using variables and print it using print function\n",
    "my_name = \"Sarmad Saifullah\"\n",
    "father_name = \"Saifullah\"\n",
    "dob = \"22-Dec-1996\"\n",
    "Education = \"BA from KU (Countinue)\"\n",
    "\n",
    "print(my_name + \"\\n\" + father_name + \"\\n\" + dob + \"\\n\" + Education)\n"
   ]
  },
  {
   "cell_type": "code",
   "execution_count": 1,
   "id": "9830ff07-9905-4adf-8e2a-b2f3f5f1a3d2",
   "metadata": {},
   "outputs": [
    {
     "name": "stdout",
     "output_type": "stream",
     "text": [
      "a + b = 15\n",
      "a == b: False\n",
      "x and y: False\n",
      "x += 3 -> 8\n"
     ]
    }
   ],
   "source": [
    "# Q:3 Write a program in which use all the operators we can use in Python\n",
    "# Arithmetic Operators\n",
    "a, b = 10, 5\n",
    "print(\"a + b =\", a + b)  # Addition: 15\n",
    "\n",
    "# Comparison Operators\n",
    "print(\"a == b:\", a == b)  # Equal to: False\n",
    "\n",
    "# Logical Operators\n",
    "x, y = True, False\n",
    "print(\"x and y:\", x and y)  # AND: False\n",
    "\n",
    "# Assignment Operators\n",
    "x = 5\n",
    "x += 3  # Add and assign\n",
    "print(\"x += 3 ->\", x)  # 8\n",
    "\n",
    "\n"
   ]
  },
  {
   "cell_type": "code",
   "execution_count": 5,
   "id": "86707ecd-d78d-42c5-9f9a-98daae41616c",
   "metadata": {},
   "outputs": [
    {
     "name": "stdout",
     "output_type": "stream",
     "text": [
      "300\n",
      "225\n",
      "75.0\n"
     ]
    }
   ],
   "source": [
    "## Q:4 : Completes the following steps of small task\n",
    "English = 80\n",
    "Math = 70\n",
    "Islamiat = 75\n",
    "Total_Marks = 300\n",
    "print(Total_Marks)\n",
    "Obtained_marks = (English + Math + Islamiat)\n",
    "print(Obtained_marks)\n",
    "Percentage = (Obtained_marks /Total_Marks)*100\n",
    "print(Percentage)"
   ]
  },
  {
   "cell_type": "code",
   "execution_count": 3,
   "id": "fa580e58-7359-4f60-9a00-5c0282ef3f2d",
   "metadata": {},
   "outputs": [],
   "source": [
    "###  In Assigment 1 and Assigment 2 below questions are same\n",
    "#### Assigment 2\n",
    "### Part -2 Python Basics (Conditional Statements)"
   ]
  },
  {
   "cell_type": "code",
   "execution_count": 7,
   "id": "8ff85cf8-04cf-4ecd-9c13-64d24e320f1c",
   "metadata": {},
   "outputs": [
    {
     "name": "stdin",
     "output_type": "stream",
     "text": [
      "Enter your salary:  2000\n",
      "Enter your years of service:  2\n"
     ]
    },
    {
     "name": "stdout",
     "output_type": "stream",
     "text": [
      "No bonus for you.\n"
     ]
    }
   ],
   "source": [
    "# Q:1 A company decided to give bonus of 5% to employee if his/her \n",
    "# year of service is more than 5 years. Ask user for their salary and year of \n",
    "# service and print the net bonus amount.\n",
    "\n",
    "salary = float(input(\"Enter your salary: \"))  \n",
    "years_of_service = int(input(\"Enter your years of service: \"))  \n",
    "\n",
    "\n",
    "if years_of_service > 5:\n",
    "    print(\"Your bonus is:\", salary * 0.05)\n",
    "else:\n",
    "    print(\"No bonus for you.\")"
   ]
  },
  {
   "cell_type": "code",
   "execution_count": 8,
   "id": "198ca26f-c960-44c1-ada9-989f87cc749a",
   "metadata": {},
   "outputs": [
    {
     "name": "stdin",
     "output_type": "stream",
     "text": [
      "Enter your age:  12\n"
     ]
    },
    {
     "name": "stdout",
     "output_type": "stream",
     "text": [
      "Sorry, you are not eligible for voting\n"
     ]
    }
   ],
   "source": [
    "#Q:2  Write a program to check whether a person is eligible for voting or not.\n",
    "# (accept age from user) if age is greater than 17 eligible otherwise not eligible\n",
    "# Ask for person's age\n",
    "person_age = float(input(\"Enter your age: \"))\n",
    "\n",
    "# Check if the person is eligible for voting\n",
    "if person_age > 17:\n",
    "    print(\"You are eligible for voting\")\n",
    "else:\n",
    "    print(\"Sorry, you are not eligible for voting\")\n"
   ]
  },
  {
   "cell_type": "code",
   "execution_count": 9,
   "id": "36f42bdc-0336-42e1-a302-b06bdff1ec6c",
   "metadata": {},
   "outputs": [
    {
     "name": "stdin",
     "output_type": "stream",
     "text": [
      "Enter a number 22\n"
     ]
    },
    {
     "name": "stdout",
     "output_type": "stream",
     "text": [
      "The number is even.\n"
     ]
    }
   ],
   "source": [
    "# Q:3 Write a program to check whether a number entered by user is even or odd.\n",
    "number = int(input(\"Enter a number\"))\n",
    "if number % 2 == 0:\n",
    "    print(\"The number is even.\")\n",
    "else:\n",
    "    print(\"The number is odd.\")\n"
   ]
  },
  {
   "cell_type": "code",
   "execution_count": 10,
   "id": "87a62693-f8ad-4cf5-9e25-414ac822c1d7",
   "metadata": {},
   "outputs": [
    {
     "name": "stdin",
     "output_type": "stream",
     "text": [
      "Enter a number:  21\n"
     ]
    },
    {
     "name": "stdout",
     "output_type": "stream",
     "text": [
      "is divisible by 7\n"
     ]
    }
   ],
   "source": [
    "# Q:4 Write a program to check whether a number is divisible by 7 or not. \n",
    "num = int(input(\"Enter a number: \"))\n",
    "\n",
    "if num % 7 == 0:\n",
    "    print(\"is divisible by 7\")\n",
    "else:\n",
    "    print(\"Oh! Sorry, this number is not divisible by 7\")\n"
   ]
  },
  {
   "cell_type": "code",
   "execution_count": 11,
   "id": "66fe74b7-22ba-4ce4-9b23-e7fbe057abd6",
   "metadata": {},
   "outputs": [
    {
     "name": "stdin",
     "output_type": "stream",
     "text": [
      "Enter a number:  10\n"
     ]
    },
    {
     "name": "stdout",
     "output_type": "stream",
     "text": [
      "Hello\n"
     ]
    }
   ],
   "source": [
    "# Q:5 Write a program to display \"Hello\" if a number entered by user is a multiple of five , otherwise print \"Bye\".\n",
    "num = int(input(\"Enter a number: \"))\n",
    "\n",
    "if num % 5 == 0:\n",
    "    print(\"Hello\")\n",
    "else:\n",
    "    print(\"Bye\")\n"
   ]
  },
  {
   "cell_type": "code",
   "execution_count": 12,
   "id": "230557d6-c478-4a82-bb58-fd2bcc525fc3",
   "metadata": {},
   "outputs": [
    {
     "name": "stdin",
     "output_type": "stream",
     "text": [
      "Enter a number: 100000\n"
     ]
    },
    {
     "name": "stdout",
     "output_type": "stream",
     "text": [
      "The last digit is: 0\n"
     ]
    }
   ],
   "source": [
    "# Q:6 Write a program to display the last digit of a number.\n",
    "num = int(input(\"Enter a number:\"))\n",
    "\n",
    "# Get the last digit\n",
    "last_digit = num % 10\n",
    "\n",
    "# Display the last digit\n",
    "print(\"The last digit is:\", last_digit)"
   ]
  },
  {
   "cell_type": "code",
   "execution_count": 13,
   "id": "34a14d91-4d8f-4f4c-bfeb-e7eb32d1fd5a",
   "metadata": {},
   "outputs": [
    {
     "name": "stdin",
     "output_type": "stream",
     "text": [
      "Enter the rectangle length:  1\n",
      "Enter the breadth length:  2\n"
     ]
    },
    {
     "name": "stdout",
     "output_type": "stream",
     "text": [
      "Length: 1\n",
      "Breadth: 2\n",
      "This is the area of the rectangle: 2\n"
     ]
    }
   ],
   "source": [
    "# Q:7  Take values of length and breadth of a rectangle from user and print if it is square or rectangle.\n",
    "\n",
    "length = int(input(\"Enter the rectangle length: \"))\n",
    "breadth = int(input(\"Enter the breadth length: \"))\n",
    "\n",
    "# Print length and breadth\n",
    "print(f\"Length: {length}\")\n",
    "print(f\"Breadth: {breadth}\")\n",
    "\n",
    "# Calculate the area\n",
    "area = length * breadth\n",
    "\n",
    "# Print the area\n",
    "print(f\"This is the area of the rectangle: {area}\")"
   ]
  },
  {
   "cell_type": "code",
   "execution_count": 14,
   "id": "9e1fd59c-5ef3-4477-ba06-b5b88c4e3895",
   "metadata": {},
   "outputs": [
    {
     "name": "stdin",
     "output_type": "stream",
     "text": [
      "Enter the first number:  2\n",
      "Enter the second number:  3\n"
     ]
    },
    {
     "name": "stdout",
     "output_type": "stream",
     "text": [
      "The greatest number is: 3\n"
     ]
    }
   ],
   "source": [
    "# Q:8 Take two int values from user and print greatest among them.\n",
    "# Taking two integer inputs from the user\n",
    "num1 = int(input(\"Enter the first number: \"))\n",
    "num2 = int(input(\"Enter the second number: \"))\n",
    "\n",
    "# Checking which number is greater\n",
    "if num1 > num2:\n",
    "    print(f\"The greatest number is: {num1}\")\n",
    "else:\n",
    "    print(f\"The greatest number is: {num2}\")\n"
   ]
  },
  {
   "cell_type": "code",
   "execution_count": 15,
   "id": "c83ca00a-e4a6-4493-9f6f-51d1cf22877a",
   "metadata": {},
   "outputs": [
    {
     "name": "stdin",
     "output_type": "stream",
     "text": [
      "Enter the quantity of items you want to purchase:  3\n"
     ]
    },
    {
     "name": "stdout",
     "output_type": "stream",
     "text": [
      "The total cost after discount is: 300\n"
     ]
    }
   ],
   "source": [
    "## understand\n",
    "# Q: 9 A shop will give discount of 10% if the cost of purchased quantity is more than 1000. Ask user for quantity Suppose, one unit will cost 100. Judge and print total cost for user.\n",
    "unit_cost = 100\n",
    "quantity = int(input(\"Enter the quantity of items you want to purchase: \"))\n",
    "\n",
    "total_cost = unit_cost * quantity\n",
    "if total_cost > 1000:\n",
    "    discount = total_cost * 0.10  \n",
    "    total_cost -= discount\n",
    "print(f\"The total cost after discount is: {total_cost}\")"
   ]
  },
  {
   "cell_type": "code",
   "execution_count": 16,
   "id": "83e3f576-a076-4bf9-b23f-67fcaaa671c5",
   "metadata": {},
   "outputs": [
    {
     "name": "stdin",
     "output_type": "stream",
     "text": [
      "Enter the marks:  3\n"
     ]
    },
    {
     "name": "stdout",
     "output_type": "stream",
     "text": [
      "Grade: F\n"
     ]
    }
   ],
   "source": [
    "# Q :10 A school has following rules for grading system:\n",
    "# Taking input from the user\n",
    "marks = int(input(\"Enter the marks: \"))\n",
    "\n",
    "# Checking the grade using if-else statements\n",
    "if marks < 25:\n",
    "    print(\"Grade: F\")\n",
    "elif 25 <= marks <= 45:\n",
    "    print(\"Grade: E\")\n",
    "elif 46 <= marks <= 50:\n",
    "    print(\"Grade: D\")\n",
    "elif 51 <= marks <= 60:\n",
    "    print(\"Grade: C\")\n",
    "elif 61 <= marks <= 80:\n",
    "    print(\"Grade: B\")\n",
    "else:  # marks above 80\n",
    "    print(\"Grade: A\")\n"
   ]
  },
  {
   "cell_type": "code",
   "execution_count": 18,
   "id": "6926fee6-e246-4a03-893d-4efdac296b3b",
   "metadata": {},
   "outputs": [
    {
     "name": "stdin",
     "output_type": "stream",
     "text": [
      "Enter the total number of classes held:  22\n",
      "Enter the number of classes you attended:  2\n"
     ]
    },
    {
     "name": "stdout",
     "output_type": "stream",
     "text": [
      "Your attendance percentage is: 9.090909090909092\n",
      "You are NOT allowed to sit in the exam due to low attendance.\n"
     ]
    },
    {
     "data": {
      "text/plain": [
       "''"
      ]
     },
     "execution_count": 18,
     "metadata": {},
     "output_type": "execute_result"
    }
   ],
   "source": [
    "## error\n",
    "'''Q 11: A student will not be allowed to sit in exam if his/her attendence is less than 75%.\n",
    "\n",
    "Take following input from user\n",
    "\n",
    "Number of classes held\n",
    "\n",
    "Number of classes attended.\n",
    "\n",
    "And print\n",
    "\n",
    "percentage of class attended\n",
    "\n",
    "Is student is allowed to sit in exam or not. '''\n",
    "\n",
    "# Ask the user to enter the number of classes held and attended\n",
    "classes_held = int(input(\"Enter the total number of classes held: \"))\n",
    "classes_attended = int(input(\"Enter the number of classes you attended: \"))\n",
    "\n",
    "# Calculate the attendance percentage\n",
    "attendance_percentage = (classes_attended / classes_held) * 100\n",
    "\n",
    "# Print the attendance percentage without formatting\n",
    "print(\"Your attendance percentage is:\", attendance_percentage)\n",
    "\n",
    "# Check if the student is allowed to sit in the exam\n",
    "if attendance_percentage >= 75:\n",
    "    print(\"You are allowed to sit in the exam.\")\n",
    "else:\n",
    "    print(\"You are NOT allowed to sit in the exam due to low attendance.\")\n",
    ";"
   ]
  },
  {
   "cell_type": "code",
   "execution_count": 19,
   "id": "4c40497e-fe44-4c99-aae8-8c8fe4a293bd",
   "metadata": {},
   "outputs": [
    {
     "name": "stdin",
     "output_type": "stream",
     "text": [
      "Enter the total number of classes held:  2\n",
      "Enter the number of classes you attended:  22\n",
      "Do you have a medical cause for your absence? (Y/N):  Y\n"
     ]
    },
    {
     "name": "stdout",
     "output_type": "stream",
     "text": [
      "Your attendance percentage is: 1100.0\n",
      "You are allowed to sit in the exam.\n"
     ]
    }
   ],
   "source": [
    "## error\n",
    "#Q: 12: Modify the above question to allow student to sit if he/she has medical cause. Ask user if he/she has medical cause or not ( 'Y' or 'N' ) and print accordingly.\n",
    "# Ask the user to enter the number of classes held and attended\n",
    "classes_held = int(input(\"Enter the total number of classes held: \"))\n",
    "classes_attended = int(input(\"Enter the number of classes you attended: \"))\n",
    "\n",
    "# Calculate the attendance percentage\n",
    "attendance_percentage = (classes_attended / classes_held) * 100\n",
    "\n",
    "# Ask the user if they have a medical cause for their absence\n",
    "medical_cause = input(\"Do you have a medical cause for your absence? (Y/N): \").strip().upper()\n",
    "\n",
    "# Print the attendance percentage without formatting\n",
    "print(\"Your attendance percentage is:\", attendance_percentage)\n",
    "\n",
    "# Check if the student is allowed to sit in the exam based on attendance or medical cause\n",
    "if attendance_percentage >= 75 or medical_cause == 'Y':\n",
    "    print(\"You are allowed to sit in the exam.\")\n",
    "else:\n",
    "    print(\"You are NOT allowed to sit in the exam due to low attendance and no medical cause.\")\n"
   ]
  },
  {
   "cell_type": "code",
   "execution_count": 20,
   "id": "3bc2cc8b-8676-43ac-be6c-742d08a06ccf",
   "metadata": {},
   "outputs": [
    {
     "name": "stdin",
     "output_type": "stream",
     "text": [
      "Enter a year:  2\n"
     ]
    },
    {
     "name": "stdout",
     "output_type": "stream",
     "text": [
      "2 is not a leap year.\n"
     ]
    }
   ],
   "source": [
    "# error\n",
    "# Q:13 Write a program to check if a year is leap year or not.\n",
    "## If a year is divisible by 4 then it is leap year but if the year is century year like 2000, 1900, 2100 then it must be divisible by 400.\n",
    "\n",
    "# Ask the user to enter a year\n",
    "year = int(input(\"Enter a year: \"))\n",
    "\n",
    "# Check if the year is a leap year\n",
    "if (year % 4 == 0 and year % 100 != 0) or (year % 400 == 0):\n",
    "    print(f\"{year} is a leap year.\")\n",
    "else:\n",
    "    print(f\"{year} is not a leap year.\")"
   ]
  },
  {
   "cell_type": "code",
   "execution_count": 22,
   "id": "97fe8ce0-ba26-4976-9b35-878b71a906d7",
   "metadata": {},
   "outputs": [
    {
     "name": "stdin",
     "output_type": "stream",
     "text": [
      "Enter your age:  32\n",
      "Enter your gender (M/F):  m\n",
      "Enter your marital status (Y/N):  Y\n"
     ]
    },
    {
     "name": "stdout",
     "output_type": "stream",
     "text": [
      "Place of service: Anywhere\n"
     ]
    }
   ],
   "source": [
    "# Q: 14 Ask user to enter age, gender ( M or F ), marital status ( Y or N ) and then using following rules print their place of service.\n",
    "'' if employee is female, then she will work only in urban areas.\n",
    "\n",
    "if employee is a male and age is in between 20 to 40 then he may work in anywhere\n",
    "\n",
    "if employee is male and age is in between 40 t0 60 then he will work in urban areas only.\n",
    "\n",
    "And any other input of age should print \"ERROR\" ''\n",
    " \n",
    "\n",
    "# Ask the user for inputs\n",
    "age = int(input(\"Enter your age: \"))\n",
    "gender = input(\"Enter your gender (M/F): \").strip().upper()\n",
    "marital_status = input(\"Enter your marital status (Y/N): \").strip().upper()\n",
    "\n",
    "# Check the conditions based on the gender and age\n",
    "if gender == 'F':  # Female employees work only in urban areas\n",
    "    print(\"Place of service: Urban areas\")\n",
    "elif gender == 'M':  # Male employees' service location depends on age\n",
    "    if 20 <= age <= 40:\n",
    "        print(\"Place of service: Anywhere\")\n",
    "    elif 40 < age <= 60:\n",
    "        print(\"Place of service: Urban areas\")\n",
    "    else:\n",
    "        print(\"ERROR\")  # Age outside of 20-60 range for males\n",
    "else:\n",
    "    print(\"ERROR\")  # Invalid gender input\n",
    "\n"
   ]
  },
  {
   "cell_type": "code",
   "execution_count": 25,
   "id": "58714e96-5e3e-4c7d-9d05-5eadb37fc81f",
   "metadata": {},
   "outputs": [
    {
     "name": "stdin",
     "output_type": "stream",
     "text": [
      "Enter the number of units consumed:  21\n"
     ]
    },
    {
     "name": "stdout",
     "output_type": "stream",
     "text": [
      "Total bill amount is: Rs. 0\n"
     ]
    }
   ],
   "source": [
    "# Q14 :Write a program to calculate the electricity bill (accept number\n",
    "''of unit from user) according to the following criteria: Unit Price\n",
    "uptp 100 units no charge Next 200 units Rs 5 per unit After 200 units Rs 10 per unit\n",
    "(For example if input unit is 350 than total bill amount is Rs.3500 \n",
    "(For example if input unit is 97 than total bill amount is Rs.0 (For example if input\n",
    "unit is 150 than total bill amount is Rs.750''\n",
    "\n",
    "\n",
    "# Ask the user to input the number of units consumed\n",
    "units = int(input(\"Enter the number of units consumed: \"))\n",
    "\n",
    "# Initialize the bill amount\n",
    "bill_amount = 0\n",
    "\n",
    "# Calculate the bill based on the units consumed\n",
    "if units <= 100:\n",
    "    bill_amount = 0  # No charge for up to 100 units\n",
    "elif units <= 300:\n",
    "    bill_amount = (units - 100) * 5  # Rs. 5 per unit for units between 101 and 300\n",
    "else:\n",
    "    bill_amount = (200 * 5) + (units - 300) * 10  # Rs. 5 per unit for 101-300, Rs. 10 for above 300\n",
    "\n",
    "# Print the total bill amount\n",
    "print(f\"Total bill amount is: Rs. {bill_amount}\")\n"
   ]
  },
  {
   "cell_type": "code",
   "execution_count": 26,
   "id": "e202edde-2de8-4d5a-a820-665ae9a25c5b",
   "metadata": {},
   "outputs": [
    {
     "name": "stdin",
     "output_type": "stream",
     "text": [
      "Enter age of person 1:  2\n",
      "Enter age of person 2:  2\n",
      "Enter age of person 3:  2\n"
     ]
    },
    {
     "name": "stdout",
     "output_type": "stream",
     "text": [
      "The oldest person is 2 years old.\n",
      "The youngest person is 2 years old.\n"
     ]
    }
   ],
   "source": [
    "# Q : 15 Take input of age of 3 people by user and determine oldest and youngest among them.\n",
    "# Take input for the ages of 3 people\n",
    "age1 = int(input(\"Enter age of person 1: \"))\n",
    "age2 = int(input(\"Enter age of person 2: \"))\n",
    "age3 = int(input(\"Enter age of person 3: \"))\n",
    "\n",
    "# Find the oldest and youngest age\n",
    "oldest = max(age1, age2, age3)  # The maximum age is the oldest\n",
    "youngest = min(age1, age2, age3)  # The minimum age is the youngest\n",
    "\n",
    "# Display the results\n",
    "print(f\"The oldest person is {oldest} years old.\")\n",
    "print(f\"The youngest person is {youngest} years old.\")\n"
   ]
  },
  {
   "cell_type": "code",
   "execution_count": null,
   "id": "4bcb52c3-47de-4cdc-8c58-cc2fae22f9c5",
   "metadata": {},
   "outputs": [],
   "source": []
  }
 ],
 "metadata": {
  "kernelspec": {
   "display_name": "Python 3 (ipykernel)",
   "language": "python",
   "name": "python3"
  },
  "language_info": {
   "codemirror_mode": {
    "name": "ipython",
    "version": 3
   },
   "file_extension": ".py",
   "mimetype": "text/x-python",
   "name": "python",
   "nbconvert_exporter": "python",
   "pygments_lexer": "ipython3",
   "version": "3.12.7"
  }
 },
 "nbformat": 4,
 "nbformat_minor": 5
}
